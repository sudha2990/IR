{
 "cells": [
  {
   "cell_type": "code",
   "execution_count": 55,
   "metadata": {
    "collapsed": true
   },
   "outputs": [],
   "source": [
    "import os\n",
    "from ndindex import NearDuplicatesIndex\n",
    "import pickle"
   ]
  },
  {
   "cell_type": "code",
   "execution_count": 56,
   "metadata": {
    "collapsed": true
   },
   "outputs": [],
   "source": [
    "#def test():\n",
    "def check_for_duplicates(files, docs, index):\n",
    "    duplicate = []\n",
    "    ndup = []\n",
    "    aDict = {}\n",
    "    text_file = open(\"test_out.txt\", \"w\")\n",
    "    matches = []\n",
    "    for f1 in files:            \n",
    "        if f1%1000 == 0:\n",
    "            print(f1)\n",
    "        if f1 in duplicate :\n",
    "            continue\n",
    "        text_file.write(docs[f1])\n",
    "        text_file.write(\"\\n\")\n",
    "        ndup.append(docs[f1])\n",
    "        for f2 in files[f1+1:]:\n",
    "            jaccard = index.get_jaccard(f1, f2)\n",
    "            if jaccard > 0.7:\n",
    "                if f1 in aDict:\n",
    "                    aDict[f1] += 1\n",
    "                else:\n",
    "                    aDict[f1] = 1 #if key is not there\n",
    "                duplicate.append(f2)\n",
    "    #print(len(duplicate))\n",
    "    print(aDict)\n",
    "    return aDict,ndup"
   ]
  },
  {
   "cell_type": "code",
   "execution_count": 58,
   "metadata": {
    "collapsed": false
   },
   "outputs": [
    {
     "name": "stdout",
     "output_type": "stream",
     "text": [
      "0\n",
      "{16: 2, 3: 7}\n"
     ]
    }
   ],
   "source": [
    "test_docs_dir=\"test1.txt\"\n",
    "index = NearDuplicatesIndex()\n",
    "docs = []\n",
    "\n",
    "# Calculate near-duplicates index\n",
    "f = open(test_docs_dir)\n",
    "splitted = f.read().splitlines()\n",
    "files = []\n",
    "for ind,line in enumerate(splitted):\n",
    "    line  = line.split('\\t')[3]\n",
    "    files.append(ind)\n",
    "    docs.append(line)\n",
    "    doc = line.strip().strip(\",.!|&-_()[]<>{}/\\\"'\").strip().split(\" \")\n",
    "    index.append(doc, ind)\n",
    "count,dup = check_for_duplicates(files, docs, index )"
   ]
  },
  {
   "cell_type": "code",
   "execution_count": 33,
   "metadata": {
    "collapsed": false
   },
   "outputs": [],
   "source": [
    "save_obj(count, \"count\")\n",
    "#load_obj(\"count\")"
   ]
  },
  {
   "cell_type": "code",
   "execution_count": 53,
   "metadata": {
    "collapsed": false
   },
   "outputs": [
    {
     "data": {
      "text/plain": [
       "7801"
      ]
     },
     "execution_count": 53,
     "metadata": {},
     "output_type": "execute_result"
    }
   ],
   "source": [
    "len(dup)"
   ]
  },
  {
   "cell_type": "code",
   "execution_count": 40,
   "metadata": {
    "collapsed": false
   },
   "outputs": [],
   "source": [
    "#count\n",
    "import operator\n",
    "#x = sorted(count.items(), key=operator.itemgetter(1))\n",
    "x = sorted(count.items(), key=lambda kv: kv[1], reverse=True)"
   ]
  },
  {
   "cell_type": "code",
   "execution_count": 59,
   "metadata": {
    "collapsed": false
   },
   "outputs": [
    {
     "data": {
      "image/png": "[encoded data removed]",
      "text/plain": [
       "<matplotlib.figure.Figure at 0x7f284f809810>"
      ]
     },
     "metadata": {},
     "output_type": "display_data"
    }
   ],
   "source": [
    "#x\n",
    "import numpy as np\n",
    "import matplotlib.pyplot as plt\n",
    "#a = np.random.random_integers(0,10,20) #example list of values\n",
    "plt.hist(a)\n",
    "plt.show()"
   ]
  },
  {
   "cell_type": "code",
   "execution_count": 26,
   "metadata": {
    "collapsed": false
   },
   "outputs": [],
   "source": [
    "def save_obj(obj, name ):\n",
    "    with open(name + '.pkl', 'wb') as f:\n",
    "        pickle.dump(obj, f, pickle.HIGHEST_PROTOCOL)\n",
    "\n",
    "def load_obj(name):\n",
    "    with open(name + '.pkl', 'rb') as f:\n",
    "        return pickle.load(f)"
   ]
  }
 ],
 "metadata": {
  "kernelspec": {
   "display_name": "Python 2",
   "language": "python",
   "name": "python2"
  },
  "language_info": {
   "codemirror_mode": {
    "name": "ipython",
    "version": 2
   },
   "file_extension": ".py",
   "mimetype": "text/x-python",
   "name": "python",
   "nbconvert_exporter": "python",
   "pygments_lexer": "ipython2",
   "version": "2.7.6"
  }
 },
 "nbformat": 4,
 "nbformat_minor": 1
}
