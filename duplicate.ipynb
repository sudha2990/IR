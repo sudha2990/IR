{
 "cells": [
  {
   "cell_type": "code",
   "execution_count": 18,
   "metadata": {
    "collapsed": true
   },
   "outputs": [],
   "source": [
    "import os\n",
    "from ndindex import NearDuplicatesIndex\n",
    "import pickle\n",
    "import re"
   ]
  },
  {
   "cell_type": "code",
   "execution_count": 16,
   "metadata": {
    "collapsed": false
   },
   "outputs": [],
   "source": [
    "def check_for_duplicates(files, docs, index):\n",
    "    duplicate = []\n",
    "    ndup = []\n",
    "    aDict = {}\n",
    "    text_file = open(\"output1204.txt\", \"w\")\n",
    "    matches = []\n",
    "    for f1 in files:            \n",
    "        if f1%1000 == 0:\n",
    "            print(f1)\n",
    "        if f1 in duplicate :\n",
    "            continue\n",
    "        text_file.write(docs[f1])\n",
    "        text_file.write(\"\\n\")\n",
    "        ndup.append(docs[f1])\n",
    "        for f2 in files[f1+1:]:\n",
    "            jaccard = index.get_jaccard(f1, f2)\n",
    "            if jaccard == 1:\n",
    "                if f1 in aDict:\n",
    "                    aDict[f1] += 1\n",
    "                else:\n",
    "                    aDict[f1] = 1 #if key is not there\n",
    "                duplicate.append(f2)\n",
    "    #print(len(duplicate))\n",
    "    return aDict,ndup"
   ]
  },
  {
   "cell_type": "code",
   "execution_count": null,
   "metadata": {
    "collapsed": true
   },
   "outputs": [],
   "source": [
    "test_docs_dir=\"output.txt\"\n",
    "index = NearDuplicatesIndex()\n",
    "docs = []\n",
    "\n",
    "# Calculate near-duplicates index\n",
    "f = open(test_docs_dir)\n",
    "splitted = f.read().splitlines()\n",
    "files = []\n",
    "for ind,line in enumerate(splitted):\n",
    "    #line  = line.split('\\t')[3]\n",
    "    line = re.sub(r\"http\\S+\", \"\", line)\n",
    "    files.append(ind)\n",
    "    docs.append(line)\n",
    "    doc = line.strip().strip(\",.!|&-_()[]<>{}/\\\"'\").strip().split(\" \")\n",
    "    index.append(doc, ind)\n",
    "count,dup = check_for_duplicates(files, docs, index )"
   ]
  },
  {
   "cell_type": "code",
   "execution_count": 53,
   "metadata": {
    "collapsed": false
   },
   "outputs": [
    {
     "data": {
      "text/plain": [
       "7801"
      ]
     },
     "execution_count": 53,
     "metadata": {},
     "output_type": "execute_result"
    }
   ],
   "source": [
    "len(dup)"
   ]
  }
 ],
 "metadata": {
  "kernelspec": {
   "display_name": "Python 2",
   "language": "python",
   "name": "python2"
  },
  "language_info": {
   "codemirror_mode": {
    "name": "ipython",
    "version": 2
   },
   "file_extension": ".py",
   "mimetype": "text/x-python",
   "name": "python",
   "nbconvert_exporter": "python",
   "pygments_lexer": "ipython2",
   "version": "2.7.6"
  }
 },
 "nbformat": 4,
 "nbformat_minor": 1
}
