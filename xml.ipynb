{
 "cells": [
  {
   "cell_type": "code",
   "execution_count": 31,
   "metadata": {
    "collapsed": false
   },
   "outputs": [
    {
     "name": "stdout",
     "output_type": "stream",
     "text": [
      "<root>\n",
      "  <child>\n",
      "    <child>https://t.co/WG9JpHEDc2 immediate efforts for support #NepalEarthquake .</child>\n",
      "    <child>1</child>\n",
      "  </child>\n",
      "</root>\n"
     ]
    }
   ],
   "source": [
    "import sys\n",
    "from lxml import etree\n",
    "\n",
    "# create XML \n",
    "root = etree.Element('root')\n",
    "chi = etree.Element('child')\n",
    "root.append(chi)\n",
    "# another child with text\n",
    "child = etree.Element('child')\n",
    "child.text = str(\"https://t.co/WG9JpHEDc2 immediate efforts for support #NepalEarthquake .\")\n",
    "chi.append(child)\n",
    "child = etree.Element('child')\n",
    "child.text = str(1)\n",
    "chi.append(child)\n",
    "\n",
    "et = etree.ElementTree(root)\n",
    "et.write(sys.stdout, pretty_print=True)\n",
    "et.write(\"filename.xml\",pretty_print=True)"
   ]
  },
  {
   "cell_type": "code",
   "execution_count": 10,
   "metadata": {
    "collapsed": true
   },
   "outputs": [],
   "source": [
    "f = open(\"nepal_tkde.txt\")"
   ]
  },
  {
   "cell_type": "code",
   "execution_count": null,
   "metadata": {
    "collapsed": true
   },
   "outputs": [],
   "source": [
    "root = etree.Element('DOC')\n",
    "child1 = etree.Element('DOCNO')\n",
    "child1.text = \n",
    "child2 = etree.Element('TEXT')\n",
    "child2.text = \n",
    "root.append(child1)\n",
    "child1.append(child2)"
   ]
  },
  {
   "cell_type": "code",
   "execution_count": null,
   "metadata": {
    "collapsed": true
   },
   "outputs": [],
   "source": [
    "`    <DOC>\n",
    "    <DOCNO>1</DOCNO>\n",
    "    <TEXT>\n",
    "    document content\n",
    "    </TEXT>\n",
    "    </DOC>`"
   ]
  },
  {
   "cell_type": "code",
   "execution_count": 84,
   "metadata": {
    "collapsed": false
   },
   "outputs": [],
   "source": [
    "f = open(\"nepal_tkde.txt\")\n",
    "i = 1\n",
    "for line in range(0,19300):\n",
    "    #line = line.split('\\t')[3]\n",
    "    root = etree.Element('DOC')\n",
    "    child1 = etree.Element('DOCNO')\n",
    "    child1.text = str(i)\n",
    "    i = i + 1\n",
    "    child2 = etree.Element('TEXT')\n",
    "    child2.text = str(f.readline().split('\\t')[3])\n",
    "    root.append(child1)\n",
    "    root.append(child2)\n",
    "    et = etree.ElementTree(root)\n",
    "    et.write(\"collections/tweet\"+str(line + 1)+\".xml\",pretty_print=True)\n",
    "#et = etree.ElementTree(root)\n",
    "#et.write(sys.stdout, pretty_print=True)\n",
    "#et.write(\"corpus1.xml\",pretty_print=True)"
   ]
  }
 ],
 "metadata": {
  "kernelspec": {
   "display_name": "Python 2",
   "language": "python",
   "name": "python2"
  },
  "language_info": {
   "codemirror_mode": {
    "name": "ipython",
    "version": 2
   },
   "file_extension": ".py",
   "mimetype": "text/x-python",
   "name": "python",
   "nbconvert_exporter": "python",
   "pygments_lexer": "ipython2",
   "version": "2.7.6"
  }
 },
 "nbformat": 4,
 "nbformat_minor": 1
}
